{
 "cells": [
  {
   "cell_type": "markdown",
   "metadata": {},
   "source": [
    "# Self-Driving Car Engineer Nanodegree\n",
    "\n",
    "## Deep Learning\n",
    "\n",
    "## Project: Build a Traffic Sign Recognition Classifier\n",
    "\n",
    "In this notebook, a template is provided for you to implement your functionality in stages which is required to successfully complete this project. If additional code is required that cannot be included in the notebook, be sure that the Python code is successfully imported and included in your submission, if necessary. Sections that begin with **'Implementation'** in the header indicate where you should begin your implementation for your project. Note that some sections of implementation are optional, and will be marked with **'Optional'** in the header.\n",
    "\n",
    "In addition to implementing code, there will be questions that you must answer which relate to the project and your implementation. Each section where you will answer a question is preceded by a **'Question'** header. Carefully read each question and provide thorough answers in the following text boxes that begin with **'Answer:'**. Your project submission will be evaluated based on your answers to each of the questions and the implementation you provide.\n",
    "\n",
    ">**Note:** Code and Markdown cells can be executed using the **Shift + Enter** keyboard shortcut. In addition, Markdown cells can be edited by typically double-clicking the cell to enter edit mode."
   ]
  },
  {
   "cell_type": "markdown",
   "metadata": {},
   "source": [
    "---\n",
    "\n",
    "## Step 1: Dataset Exploration\n",
    "\n",
    "Visualize the German Traffic Signs Dataset. This is open ended, some suggestions include: plotting traffic signs images, plotting the count of each sign, etc. Be creative!\n",
    "\n",
    "\n",
    "The pickled data is a dictionary with 4 key/value pairs:\n",
    "\n",
    "- features -> the images pixel values, (width, height, channels)\n",
    "- labels -> the label of the traffic sign\n",
    "- sizes -> the original width and height of the image, (width, height)\n",
    "- coords -> coordinates of a bounding box around the sign in the image, (x1, y1, x2, y2). Based the original image (not the resized version)."
   ]
  },
  {
   "cell_type": "code",
   "execution_count": 1,
   "metadata": {
    "collapsed": false
   },
   "outputs": [],
   "source": [
    "import math\n",
    "from tqdm import tqdm\n",
    "import pickle\n",
    "import numpy as np\n",
    "import tensorflow as tf\n",
    "import cv2\n",
    "from sklearn.model_selection import train_test_split\n",
    "\n",
    "# TODO: fill this in based on where you saved the training and testing data\n",
    "training_file = 'train.p'\n",
    "testing_file = 'test.p'\n",
    "\n",
    "with open(training_file, mode='rb') as f:\n",
    "    train = pickle.load(f)\n",
    "with open(testing_file, mode='rb') as f:\n",
    "    test = pickle.load(f)\n",
    "    \n",
    "X_train, y_train = train['features'], train['labels']\n",
    "X_test, y_test = test['features'], test['labels']\n",
    "sizes = train['sizes']\n",
    "coords = train['coords']\n",
    "\n",
    "X_train, X_valid, y_train, y_valid = train_test_split(\n",
    "    X_train,\n",
    "    y_train,\n",
    "    test_size=0.3,\n",
    "    random_state=0)"
   ]
  },
  {
   "cell_type": "code",
   "execution_count": 2,
   "metadata": {
    "collapsed": false
   },
   "outputs": [
    {
     "name": "stdout",
     "output_type": "stream",
     "text": [
      "Number of training examples = 27446\n",
      "Number of testing examples = 12630\n",
      "Image data shape = 3072\n",
      "Number of classes = 43\n"
     ]
    }
   ],
   "source": [
    "### To start off let's do a basic data summary.\n",
    "\n",
    "# TODO: number of training examples\n",
    "n_train = len(X_train)\n",
    "\n",
    "# TODO: number of testing examples\n",
    "n_test = len(X_test)\n",
    "\n",
    "# TODO: what's the shape of an image?\n",
    "image_shape = 32*32*3\n",
    "\n",
    "# TODO: how many classes are in the dataset\n",
    "n_classes = len(np.unique(y_train))\n",
    "\n",
    "print(\"Number of training examples =\", n_train)\n",
    "print(\"Number of testing examples =\", n_test)\n",
    "print(\"Image data shape =\", image_shape)\n",
    "print(\"Number of classes =\", n_classes)"
   ]
  },
  {
   "cell_type": "code",
   "execution_count": 11,
   "metadata": {
    "collapsed": false
   },
   "outputs": [
    {
     "data": {
      "image/png": "[encoded data removed]",
      "text/plain": [
       "<matplotlib.figure.Figure at 0x1286f8c18>"
      ]
     },
     "metadata": {},
     "output_type": "display_data"
    }
   ],
   "source": [
    "### Data exploration visualization goes here.\n",
    "### Feel free to use as many code cells as needed.\n",
    "import matplotlib.pyplot as plt\n",
    "import numpy.random as random\n",
    "import matplotlib.gridspec as gridspec\n",
    "from tqdm import tqdm\n",
    "\n",
    "def explore(X_train):\n",
    "    sample_size = 5 \n",
    "    count = 1 \n",
    "    for i in range(n_classes):\n",
    "        ind = y_train == i\n",
    "        subset_x = X_train[ind,] #get all images that belong to class i\n",
    "        plt.subplot(n_classes,sample_size,count)\n",
    "        plt.imshow(subset_x[1])\n",
    "        plt.axis('off')\n",
    "        count +=1\n",
    "    plt.show()\n",
    "        \n",
    "explore(X_train)\n"
   ]
  },
  {
   "cell_type": "markdown",
   "metadata": {},
   "source": [
    "----\n",
    "\n",
    "## Step 2: Design and Test a Model Architecture\n",
    "\n",
    "Design and implement a deep learning model that learns to recognize traffic signs. Train and test your model on the [German Traffic Sign Dataset](http://benchmark.ini.rub.de/?section=gtsrb&subsection=dataset).\n",
    "\n",
    "There are various aspects to consider when thinking about this problem:\n",
    "\n",
    "- Your model can be derived from a deep feedforward net or a deep convolutional network.\n",
    "- Play around preprocessing techniques (normalization, rgb to grayscale, etc)\n",
    "- Number of examples per label (some have more than others).\n",
    "- Generate fake data.\n",
    "\n",
    "Here is an example of a [published baseline model on this problem](http://yann.lecun.com/exdb/publis/pdf/sermanet-ijcnn-11.pdf). It's not required to be familiar with the approach used in the paper but, it's good practice to try to read papers like these."
   ]
  },
  {
   "cell_type": "markdown",
   "metadata": {},
   "source": [
    "### Implementation\n",
    "\n",
    "Use the code cell (or multiple code cells, if necessary) to implement the first step of your project. Once you have completed your implementation and are satisfied with the results, be sure to thoroughly answer the questions that follow."
   ]
  },
  {
   "cell_type": "code",
   "execution_count": 15,
   "metadata": {
    "collapsed": false
   },
   "outputs": [
    {
     "name": "stdout",
     "output_type": "stream",
     "text": [
      "train label shape= (27446, 43)\n",
      "test label shape= (12630, 43)\n",
      "valid label shape= (11763, 43)\n"
     ]
    }
   ],
   "source": [
    "### Preprocess the data here.\n",
    "### Feel free to use as many code cells as needed.\n",
    "from sklearn.preprocessing import OneHotEncoder\n",
    "\n",
    "def OHE_labels(Y_tr,N_classes):\n",
    "    OHC = OneHotEncoder()\n",
    "    \n",
    "    Y_ohc = OHC.fit(np.arange(N_classes).reshape(-1, 1))\n",
    "    Y_labels = Y_ohc.transform(Y_tr.reshape(-1, 1)).toarray()\n",
    "    return Y_labels\n",
    "\n",
    "def next_batch(x, y, batch_index, batch_size):\n",
    "    start = batch_index + 1\n",
    "    end = start + batch_size\n",
    "    return x[start:end, :], y[start:end]\n",
    "\n",
    "train_labels = OHE_labels(y_train,n_classes)\n",
    "test_labels = OHE_labels(y_test,n_classes)\n",
    "valid_labels = OHE_labels(y_valid,n_classes)\n",
    "\n",
    "train_labels = train_labels.astype(np.float32)\n",
    "test_labels = test_labels.astype(np.float32)\n",
    "valid_labels = valid_labels.astype(np.float32)\n",
    "\n",
    "print(\"train label shape=\",train_labels.shape)\n",
    "print(\"test label shape=\",test_labels.shape)\n",
    "print(\"valid label shape=\",valid_labels.shape)\n",
    "        \n",
    "layer_width = {\n",
    "    'layer_1': 32,\n",
    "    'layer_2': 64,\n",
    "    'layer_3': 128,\n",
    "    'fully_connected': 512\n",
    "}\n",
    "\n",
    "# Store layers weight & bias\n",
    "weights = {\n",
    "    'layer_1': tf.Variable(tf.truncated_normal([5, 5, 3, layer_width['layer_1']])),\n",
    "    'layer_2': tf.Variable(tf.truncated_normal([5, 5, layer_width['layer_1'], layer_width['layer_2']])),\n",
    "    'layer_3': tf.Variable(tf.truncated_normal([5, 5, layer_width['layer_2'], layer_width['layer_3']])),\n",
    "    'fully_connected': tf.Variable(tf.truncated_normal([128, layer_width['fully_connected']])),\n",
    "    'out': tf.Variable(tf.truncated_normal([layer_width['fully_connected'], n_classes]))\n",
    "}\n",
    "biases = {\n",
    "    'layer_1': tf.Variable(tf.zeros(layer_width['layer_1'])),\n",
    "    'layer_2': tf.Variable(tf.zeros(layer_width['layer_2'])),\n",
    "    'layer_3': tf.Variable(tf.zeros(layer_width['layer_3'])),\n",
    "    'fully_connected': tf.Variable(tf.zeros(layer_width['fully_connected'])),\n",
    "    'out': tf.Variable(tf.zeros(n_classes))\n",
    "}\n",
    "\n",
    "\n",
    "def conv2d(x, W, b, strides=4):\n",
    "    x = tf.nn.conv2d(x, W, strides=[1, strides, strides, 1], padding='SAME')\n",
    "    x = tf.nn.bias_add(x, b)\n",
    "    return tf.nn.tanh(x)\n",
    "\n",
    "\n",
    "def maxpool2d(x, k=2):\n",
    "    return tf.nn.max_pool(\n",
    "        x,\n",
    "        ksize=[1, k, k, 1],\n",
    "        strides=[1, k, k, 1],\n",
    "        padding='SAME')\n",
    "\n",
    "# Create model\n",
    "def conv_net(x, weights, biases):    \n",
    "    print (\"x-shape = \", x.get_shape())\n",
    "    image = tf.reshape(x, shape=[-1, 32, 32, 3])\n",
    "    print (\"image-shape = \", image.get_shape())\n",
    "    # Layer 1\n",
    "    conv1 = conv2d(image, weights['layer_1'], biases['layer_1'])\n",
    "    print (\"conv1-shape before maxpool = \", conv1.get_shape())\n",
    "    conv1 = maxpool2d(conv1)\n",
    "    print (\"conv1-shape = \", conv1.get_shape())\n",
    "    \n",
    "    # Layer 2\n",
    "    conv2 = conv2d(conv1, weights['layer_2'], biases['layer_2'])\n",
    "    print (\"conv2-shape before max pool= \", conv2.get_shape())\n",
    "    conv2 = maxpool2d(conv2)\n",
    "    print (\"conv2-shape = \", conv2.get_shape())\n",
    " \n",
    "    # Layer 3\n",
    "    conv3 = conv2d(conv2, weights['layer_3'], biases['layer_3'])\n",
    "    print (\"conv3-shape before max pool = \", conv3.get_shape())\n",
    "    conv3 = maxpool2d(conv3)\n",
    "    print (\"conv3-shape = \", conv3.get_shape())\n",
    "  \n",
    "    # Fully connected layer\n",
    "    # Reshape conv3 output to fit fully connected layer input\n",
    "    fc1 = tf.reshape( conv3, [-1, weights['fully_connected'].get_shape().as_list()[0]])\n",
    "    print(\"fc1 shape = \", fc1.get_shape())\n",
    "    fc1 = tf.add(tf.matmul(fc1, weights['fully_connected']), biases['fully_connected'])\n",
    "    fc1 = tf.nn.tanh(fc1)\n",
    "\n",
    "    # Output Layer - class prediction\n",
    "    out = tf.add(tf.matmul(fc1, weights['out']), biases['out'])\n",
    "    print(\"out shape =\", out.get_shape())\n",
    "    return out\n"
   ]
  },
  {
   "cell_type": "code",
   "execution_count": 20,
   "metadata": {
    "collapsed": false
   },
   "outputs": [
    {
     "name": "stdout",
     "output_type": "stream",
     "text": [
      "x-shape =  (?, 32, 32, 3)\n",
      "image-shape =  (?, 32, 32, 3)\n",
      "conv1-shape before maxpool =  (?, 8, 8, 32)\n",
      "conv1-shape =  (?, 4, 4, 32)\n",
      "conv2-shape before max pool=  (?, 1, 1, 64)\n",
      "conv2-shape =  (?, 1, 1, 64)\n",
      "conv3-shape before max pool =  (?, 1, 1, 128)\n",
      "conv3-shape =  (?, 1, 1, 128)\n",
      "fc1 shape =  (?, 128)\n",
      "out shape = (?, 43)\n",
      "Everything is defined\n"
     ]
    }
   ],
   "source": [
    "learning_rate = 0.001\n",
    "batch_size = 512\n",
    "training_epochs = 25\n",
    "#training_epochs = 1\n",
    "\n",
    "# tf Graph input\n",
    "x = tf.placeholder(\"float\", [None, 32, 32, 3])\n",
    "y = tf.placeholder(\"float\", [None, n_classes])\n",
    "\n",
    "\n",
    "# define all the variables and functions\n",
    "logits = conv_net(x, weights, biases)\n",
    "\n",
    "# Define loss and optimizer\n",
    "cost = tf.reduce_mean(tf.nn.softmax_cross_entropy_with_logits(logits, y))\n",
    "optimizer = tf.train.GradientDescentOptimizer(learning_rate=learning_rate).minimize(cost)\n",
    "\n",
    "\n",
    "# Initializing the variables\n",
    "init = tf.initialize_all_variables()\n",
    "\n",
    "print(\"Everything is defined\")"
   ]
  },
  {
   "cell_type": "code",
   "execution_count": 21,
   "metadata": {
    "collapsed": false
   },
   "outputs": [
    {
     "name": "stdout",
     "output_type": "stream",
     "text": [
      "Epoch: 0001 cost= 30.053089142\n",
      "Epoch: 0002 cost= 15.568515778\n",
      "Epoch: 0003 cost= 8.870595932\n",
      "Epoch: 0004 cost= 7.282234192\n",
      "Epoch: 0005 cost= 6.335186481\n",
      "Epoch: 0006 cost= 5.876165390\n",
      "Epoch: 0007 cost= 5.514448166\n",
      "Epoch: 0008 cost= 5.272830963\n",
      "Epoch: 0009 cost= 5.104325771\n",
      "Epoch: 0010 cost= 4.949627876\n",
      "Epoch: 0011 cost= 4.816656113\n",
      "Epoch: 0012 cost= 4.696991444\n",
      "Epoch: 0013 cost= 4.590035439\n",
      "Epoch: 0014 cost= 4.483975410\n",
      "Epoch: 0015 cost= 4.383374214\n",
      "Epoch: 0016 cost= 4.283911228\n",
      "Epoch: 0017 cost= 4.178747654\n",
      "Epoch: 0018 cost= 4.077129364\n",
      "Epoch: 0019 cost= 3.986568928\n",
      "Epoch: 0020 cost= 3.908603907\n",
      "Epoch: 0021 cost= 3.837081194\n",
      "Epoch: 0022 cost= 3.769214630\n",
      "Epoch: 0023 cost= 3.715661764\n",
      "Epoch: 0024 cost= 3.667127609\n",
      "Epoch: 0025 cost= 3.622915745\n",
      "Optimization Finished!\n",
      "Accuracy: 0.0546629\n"
     ]
    }
   ],
   "source": [
    "# Launch the graph\n",
    "with tf.Session() as sess:\n",
    "    sess.run(init)\n",
    "    \n",
    "    for epoch in range(training_epochs):\n",
    "        batch_count = int(math.ceil(len(X_train)/batch_size))            \n",
    "        # The training cycle\n",
    "        for i in range(batch_count):\n",
    "            \n",
    "            batch_x, batch_y = next_batch(X_train,train_labels,i,batch_size)\n",
    "            # Run optimization op (backprop) and cost op (to get loss value)\n",
    "            sess.run(optimizer, feed_dict={x: batch_x, y: batch_y})\n",
    "            \n",
    "        # Display logs per epoch step\n",
    "        c = sess.run(cost, feed_dict={x: batch_x, y: batch_y})\n",
    "        print(\"Epoch:\", '%04d' % (epoch+1), \"cost=\", \"{:.9f}\".format(c))\n",
    "    print(\"Optimization Finished!\")\n",
    "\n",
    "    # Test model\n",
    "    correct_prediction = tf.equal(tf.argmax(logits, 1), tf.argmax(y, 1))\n",
    "    # Calculate accuracy\n",
    "    accuracy = tf.reduce_mean(tf.cast(correct_prediction, \"float\"))\n",
    "    print(\n",
    "        \"Accuracy:\",\n",
    "        accuracy.eval({x: X_valid, y: valid_labels}))"
   ]
  },
  {
   "cell_type": "markdown",
   "metadata": {},
   "source": [
    "##### Question 1 \n",
    "\n",
    "_Describe the techniques used to preprocess the data._"
   ]
  },
  {
   "cell_type": "markdown",
   "metadata": {},
   "source": [
    "**Answer:**"
   ]
  },
  {
   "cell_type": "code",
   "execution_count": 2,
   "metadata": {
    "collapsed": true
   },
   "outputs": [],
   "source": [
    "### Generate data additional (if you want to!)\n",
    "### and split the data into training/validation/testing sets here.\n",
    "### Feel free to use as many code cells as needed.\n",
    "\n",
    "### I split the data into test/validation and training data like so:\n",
    "X_train, y_train = train['features'], train['labels']\n",
    "X_test, y_test = test['features'], test['labels']\n",
    "sizes = train['sizes']\n",
    "coords = train['coords']\n",
    "\n",
    "X_train, X_valid, y_train, y_valid = train_test_split(\n",
    "    X_train,\n",
    "    y_train,\n",
    "    test_size=0.3,\n",
    "    random_state=0)\n",
    "\n",
    "### I also one hot encoded the labels like so:\n",
    "def OHE_labels(Y_tr,N_classes):\n",
    "    OHC = OneHotEncoder()\n",
    "    \n",
    "    Y_ohc = OHC.fit(np.arange(N_classes).reshape(-1, 1))\n",
    "    Y_labels = Y_ohc.transform(Y_tr.reshape(-1, 1)).toarray()\n",
    "    return Y_labels\n",
    "\n",
    "def next_batch(x, y, batch_index, batch_size):\n",
    "    start = batch_index + 1\n",
    "    end = start + batch_size\n",
    "    return x[start:end, :], y[start:end]\n",
    "\n",
    "train_labels = OHE_labels(y_train,n_classes)\n",
    "test_labels = OHE_labels(y_test,n_classes)\n",
    "valid_labels = OHE_labels(y_valid,n_classes)\n",
    "\n",
    "train_labels = train_labels.astype(np.float32)\n",
    "test_labels = test_labels.astype(np.float32)\n",
    "valid_labels = valid_labels.astype(np.float32)\n",
    "\n",
    "print(\"train label shape=\",train_labels.shape)\n",
    "print(\"test label shape=\",test_labels.shape)\n",
    "print(\"valid label shape=\",valid_labels.shape)\n",
    "\n",
    "### I thought about grayscaling the image data but did not see how that would help"
   ]
  },
  {
   "cell_type": "markdown",
   "metadata": {},
   "source": [
    "### Question 2\n",
    "\n",
    "_Describe how you set up the training, validation and testing data for your model. If you generated additional data, why?_"
   ]
  },
  {
   "cell_type": "markdown",
   "metadata": {},
   "source": [
    "**Answer:**"
   ]
  },
  {
   "cell_type": "code",
   "execution_count": 6,
   "metadata": {
    "collapsed": true
   },
   "outputs": [],
   "source": [
    "### Define your architecture here.\n",
    "### Feel free to use as many code cells as needed.\n",
    "### I tried to setup a 3 layer conv network and the general idea was borrowed from the class\n",
    "### It is essentially Image->conv, followed by max pooling->conv, followed by max pooling->fully connected->classifier\n",
    "### I split the data into test/validation and training data like so:\n",
    "X_train, y_train = train['features'], train['labels']\n",
    "X_test, y_test = test['features'], test['labels']\n",
    "sizes = train['sizes']\n",
    "coords = train['coords']\n",
    "\n",
    "X_train, X_valid, y_train, y_valid = train_test_split(\n",
    "    X_train,\n",
    "    y_train,\n",
    "    test_size=0.3,\n",
    "    random_state=0)\n",
    "\n",
    "def conv_net(x, weights, biases):    \n",
    "    print (\"x-shape = \", x.get_shape())\n",
    "    image = tf.reshape(x, shape=[-1, 32, 32, 3])\n",
    "    print (\"image-shape = \", image.get_shape())\n",
    "    # Layer 1\n",
    "    conv1 = conv2d(image, weights['layer_1'], biases['layer_1'])\n",
    "    print (\"conv1-shape before maxpool = \", conv1.get_shape())\n",
    "    conv1 = maxpool2d(conv1)\n",
    "    print (\"conv1-shape = \", conv1.get_shape())\n",
    "    \n",
    "    # Layer 2\n",
    "    conv2 = conv2d(conv1, weights['layer_2'], biases['layer_2'])\n",
    "    print (\"conv2-shape before max pool= \", conv2.get_shape())\n",
    "    conv2 = maxpool2d(conv2)\n",
    "    print (\"conv2-shape = \", conv2.get_shape())\n",
    " \n",
    "    # Layer 3\n",
    "    conv3 = conv2d(conv2, weights['layer_3'], biases['layer_3'])\n",
    "    print (\"conv3-shape before max pool = \", conv3.get_shape())\n",
    "    conv3 = maxpool2d(conv3)\n",
    "    print (\"conv3-shape = \", conv3.get_shape())\n",
    "  \n",
    "    # Fully connected layer\n",
    "    # Reshape conv3 output to fit fully connected layer input\n",
    "    fc1 = tf.reshape( conv3, [-1, weights['fully_connected'].get_shape().as_list()[0]])\n",
    "    print(\"fc1 shape = \", fc1.get_shape())\n",
    "    fc1 = tf.add(tf.matmul(fc1, weights['fully_connected']), biases['fully_connected'])\n",
    "    fc1 = tf.nn.tanh(fc1)\n",
    "\n",
    "    # Output Layer - class prediction\n",
    "    out = tf.add(tf.matmul(fc1, weights['out']), biases['out'])\n",
    "    print(\"out shape =\", out.get_shape())\n",
    "    return out"
   ]
  },
  {
   "cell_type": "markdown",
   "metadata": {},
   "source": [
    "### Question 3\n",
    "\n",
    "_What does your final architecture look like? (Type of model, layers, sizes, connectivity, etc.)  For reference on how to build a deep neural network using TensorFlow, see [Deep Neural Network in TensorFlow\n",
    "](https://classroom.udacity.com/nanodegrees/nd013/parts/fbf77062-5703-404e-b60c-95b78b2f3f9e/modules/6df7ae49-c61c-4bb2-a23e-6527e69209ec/lessons/b516a270-8600-4f93-a0a3-20dfeabe5da6/concepts/83a3a2a2-a9bd-4b7b-95b0-eb924ab14432) from the classroom._\n"
   ]
  },
  {
   "cell_type": "markdown",
   "metadata": {},
   "source": [
    "**Answer:**"
   ]
  },
  {
   "cell_type": "code",
   "execution_count": 5,
   "metadata": {
    "collapsed": true
   },
   "outputs": [],
   "source": [
    "### Train your model here.\n",
    "### Feel free to use as many code cells as needed.\n",
    "### This is solved above, please look at code section '# Launch the graph'\n",
    "### It is essentially Image->conv, followed by max pooling->conv, followed by max pooling->fully connected->classifier\n",
    "### I also utilize gradient descent and a softmax loss function.\n"
   ]
  },
  {
   "cell_type": "markdown",
   "metadata": {},
   "source": [
    "### Question 4\n",
    "\n",
    "_How did you train your model? (Type of optimizer, batch size, epochs, hyperparameters, etc.)_\n"
   ]
  },
  {
   "cell_type": "markdown",
   "metadata": {},
   "source": [
    "**Answer:**\n",
    "The training was done a portion of training data. I chose a batch size of 512 and training epochs of 50. The accuracy with epoch 25 hovered around 54-55%. I tried other epochs. With higher epoch of 50 accuracy went below 50% (which could be increased if i grayscaled the image)\n",
    "For Optimizer i used gradient descent with a learning rate of 0.001.\n",
    "For cost function i used softmax function as shown below"
   ]
  },
  {
   "cell_type": "code",
   "execution_count": null,
   "metadata": {
    "collapsed": true
   },
   "outputs": [],
   "source": [
    "learning_rate = 0.001\n",
    "batch_size = 512\n",
    "training_epochs = 50\n",
    "\n",
    "# Define loss and optimizer\n",
    "cost = tf.reduce_mean(tf.nn.softmax_cross_entropy_with_logits(logits, y))\n",
    "optimizer = tf.train.GradientDescentOptimizer(learning_rate=learning_rate).minimize(cost)"
   ]
  },
  {
   "cell_type": "markdown",
   "metadata": {},
   "source": [
    "### Question 5\n",
    "\n",
    "\n",
    "_What approach did you take in coming up with a solution to this problem?_"
   ]
  },
  {
   "cell_type": "markdown",
   "metadata": {},
   "source": [
    "**Answer:** \n",
    "I first wrote a single layer neural network, which was slow and not as accurate. I went back to the class and saw that CNN can be effective, especially since they share weights and biases and can work with large data sets. So I chose that as a way to get to the results."
   ]
  },
  {
   "cell_type": "markdown",
   "metadata": {},
   "source": [
    "---\n",
    "\n",
    "## Step 3: Test a Model on New Images\n",
    "\n",
    "Take several pictures of traffic signs that you find on the web or around you (at least five), and run them through your classifier on your computer to produce example results. The classifier might not recognize some local signs but it could prove interesting nonetheless.\n",
    "\n",
    "You may find `signnames.csv` useful as it contains mappings from the class id (integer) to the actual sign name."
   ]
  },
  {
   "cell_type": "markdown",
   "metadata": {},
   "source": [
    "### Implementation\n",
    "\n",
    "Use the code cell (or multiple code cells, if necessary) to implement the first step of your project. Once you have completed your implementation and are satisfied with the results, be sure to thoroughly answer the questions that follow."
   ]
  },
  {
   "cell_type": "code",
   "execution_count": 1,
   "metadata": {
    "collapsed": false
   },
   "outputs": [
    {
     "name": "stdout",
     "output_type": "stream",
     "text": [
      "This image is: <class 'numpy.ndarray'> with dimesions: (225, 225, 3)\n",
      "resized: (32, 32, 3)\n",
      "This image is: <class 'numpy.ndarray'> with dimesions: (224, 225, 3)\n",
      "resized: (31, 32, 3)\n",
      "This image is: <class 'numpy.ndarray'> with dimesions: (225, 225, 3)\n",
      "resized: (32, 32, 3)\n",
      "This image is: <class 'numpy.ndarray'> with dimesions: (211, 239, 3)\n",
      "resized: (28, 32, 3)\n",
      "This image is: <class 'numpy.ndarray'> with dimesions: (210, 240, 3)\n",
      "resized: (28, 32, 3)\n",
      "This image is: <class 'numpy.ndarray'> with dimesions: (210, 240, 3)\n",
      "resized: (28, 32, 3)\n",
      "This image is: <class 'numpy.ndarray'> with dimesions: (211, 239, 3)\n",
      "resized: (28, 32, 3)\n",
      "This image is: <class 'numpy.ndarray'> with dimesions: (211, 239, 3)\n",
      "resized: (28, 32, 3)\n"
     ]
    }
   ],
   "source": [
    "### Load the images and plot them here.\n",
    "### Feel free to use as many code cells as needed.\n",
    "import os\n",
    "import matplotlib.image as mpimg\n",
    "import cv2\n",
    "\n",
    "def resize():\n",
    "    images = os.listdir(\"webimages/\")\n",
    "    for f in images:\n",
    "        #reading in an image\n",
    "        image = mpimg.imread(os.path.join(\"webimages/\", f))\n",
    "        print('This image is:', type(image), 'with dimesions:', image.shape)\n",
    "        rows,cols,ch = image.shape\n",
    "        r = 32.0 / image.shape[1]\n",
    "        dim = (32, int(image.shape[0] * r))\n",
    "\n",
    "        # perform the actual resizing of the image and show it\n",
    "        resized = cv2.resize(image, dim, interpolation = cv2.INTER_AREA)\n",
    "        print('resized:', resized.shape)\n",
    "        cv2.imwrite(os.path.join(\"webresized\",f), resized)\n",
    "\n",
    "resize()\n"
   ]
  },
  {
   "cell_type": "markdown",
   "metadata": {},
   "source": [
    "### Question 6\n",
    "\n",
    "_Choose five candidate images of traffic signs and provide them in the report. Are there any particular qualities of the image(s) that might make classification difficult? It would be helpful to plot the images in the notebook._\n",
    "\n"
   ]
  },
  {
   "cell_type": "markdown",
   "metadata": {},
   "source": [
    "**Answer:**"
   ]
  },
  {
   "cell_type": "code",
   "execution_count": 4,
   "metadata": {
    "collapsed": true
   },
   "outputs": [],
   "source": [
    "### Run the predictions here.\n",
    "### Feel free to use as many code cells as needed."
   ]
  },
  {
   "cell_type": "markdown",
   "metadata": {},
   "source": [
    "### Question 7\n",
    "\n",
    "_Is your model able to perform equally well on captured pictures or a live camera stream when compared to testing on the dataset?_\n"
   ]
  },
  {
   "cell_type": "markdown",
   "metadata": {},
   "source": [
    "**Answer:**"
   ]
  },
  {
   "cell_type": "code",
   "execution_count": null,
   "metadata": {
    "collapsed": true
   },
   "outputs": [],
   "source": [
    "### Visualize the softmax probabilities here.\n",
    "### Feel free to use as many code cells as needed."
   ]
  },
  {
   "cell_type": "markdown",
   "metadata": {},
   "source": [
    "### Question 8\n",
    "\n",
    "*Use the model's softmax probabilities to visualize the **certainty** of its predictions, [`tf.nn.top_k`](https://www.tensorflow.org/versions/r0.11/api_docs/python/nn.html#top_k) could prove helpful here. Which predictions is the model certain of? Uncertain? If the model was incorrect in its initial prediction, does the correct prediction appear in the top k? (k should be 5 at most)*\n"
   ]
  },
  {
   "cell_type": "markdown",
   "metadata": {},
   "source": [
    "**Answer:**"
   ]
  },
  {
   "cell_type": "markdown",
   "metadata": {},
   "source": [
    "### Question 9\n",
    "_If necessary, provide documentation for how an interface was built for your model to load and classify newly-acquired images._\n"
   ]
  },
  {
   "cell_type": "markdown",
   "metadata": {},
   "source": [
    "**Answer:**"
   ]
  },
  {
   "cell_type": "markdown",
   "metadata": {},
   "source": [
    "> **Note**: Once you have completed all of the code implementations and successfully answered each question above, you may finalize your work by exporting the iPython Notebook as an HTML document. You can do this by using the menu above and navigating to  \\n\",\n",
    "    \"**File -> Download as -> HTML (.html)**. Include the finished document along with this notebook as your submission."
   ]
  },
  {
   "cell_type": "code",
   "execution_count": null,
   "metadata": {
    "collapsed": true
   },
   "outputs": [],
   "source": []
  }
 ],
 "metadata": {
  "anaconda-cloud": {},
  "kernelspec": {
   "display_name": "Python 3",
   "language": "python",
   "name": "python3"
  },
  "language_info": {
   "codemirror_mode": {
    "name": "ipython",
    "version": 3
   },
   "file_extension": ".py",
   "mimetype": "text/x-python",
   "name": "python",
   "nbconvert_exporter": "python",
   "pygments_lexer": "ipython3",
   "version": "3.5.2"
  }
 },
 "nbformat": 4,
 "nbformat_minor": 1
}
